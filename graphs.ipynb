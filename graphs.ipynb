{
  "nbformat": 4,
  "nbformat_minor": 0,
  "metadata": {
    "colab": {
      "provenance": [],
      "authorship_tag": "ABX9TyM/bW6VeJ3ICmHhT82dVMth",
      "include_colab_link": true
    },
    "kernelspec": {
      "name": "python3",
      "display_name": "Python 3"
    },
    "language_info": {
      "name": "python"
    }
  },
  "cells": [
    {
      "cell_type": "markdown",
      "metadata": {
        "id": "view-in-github",
        "colab_type": "text"
      },
      "source": [
        "<a href=\"https://colab.research.google.com/github/bharathkumaarr/dataStructures/blob/master/graphs.ipynb\" target=\"_parent\"><img src=\"https://colab.research.google.com/assets/colab-badge.svg\" alt=\"Open In Colab\"/></a>"
      ]
    },
    {
      "cell_type": "markdown",
      "source": [
        "# **DFS**"
      ],
      "metadata": {
        "id": "vPakGcyD45Vl"
      }
    },
    {
      "cell_type": "code",
      "source": [
        "graph = {\n",
        "    'a': ['b', 'd'],\n",
        "    'b': [],\n",
        "    'c': [],\n",
        "    'd': ['e', 'g'],\n",
        "    'e': ['c'],\n",
        "    'f': [],\n",
        "    'g': ['f']\n",
        "}"
      ],
      "metadata": {
        "id": "bFntCmq9-31s"
      },
      "execution_count": 2,
      "outputs": []
    },
    {
      "cell_type": "code",
      "execution_count": 4,
      "metadata": {
        "colab": {
          "base_uri": "https://localhost:8080/"
        },
        "id": "Czymx9ir402v",
        "outputId": "c2de8e3d-eb0a-4536-abf5-e416a56bb320"
      },
      "outputs": [
        {
          "output_type": "stream",
          "name": "stdout",
          "text": [
            "a\n",
            "d\n",
            "g\n",
            "f\n",
            "e\n",
            "c\n",
            "b\n"
          ]
        }
      ],
      "source": [
        "def dfs(graph, source):\n",
        "  stack=[]\n",
        "  stack.append(source)\n",
        "  while stack:\n",
        "    node = stack.pop(-1)\n",
        "    print(node)\n",
        "    for neighbour in graph[node]:\n",
        "      stack.append(neighbour)\n",
        "\n",
        "dfs(graph, \"a\")\n"
      ]
    },
    {
      "cell_type": "markdown",
      "source": [
        "# **BFS**"
      ],
      "metadata": {
        "id": "s7dCZie7J34u"
      }
    },
    {
      "cell_type": "code",
      "source": [
        "def bfs(graph, source):\n",
        "  queue=[]\n",
        "  queue.append(source)\n",
        "  while queue:\n",
        "    node = queue.pop(0)\n",
        "    print(node)\n",
        "    for neighbour in graph[node]:\n",
        "      queue.append(neighbour)\n",
        "\n",
        "dfs(graph, \"a\")"
      ],
      "metadata": {
        "colab": {
          "base_uri": "https://localhost:8080/"
        },
        "id": "eyd6cWw5-3LK",
        "outputId": "938799aa-c172-47b2-9134-9c8a375d976e"
      },
      "execution_count": 5,
      "outputs": [
        {
          "output_type": "stream",
          "name": "stdout",
          "text": [
            "a\n",
            "d\n",
            "g\n",
            "f\n",
            "e\n",
            "c\n",
            "b\n"
          ]
        }
      ]
    },
    {
      "cell_type": "code",
      "source": [],
      "metadata": {
        "id": "cifa3uZd_e_l"
      },
      "execution_count": null,
      "outputs": []
    }
  ]
}